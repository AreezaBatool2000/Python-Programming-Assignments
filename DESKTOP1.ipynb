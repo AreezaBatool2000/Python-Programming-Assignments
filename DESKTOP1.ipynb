{
 "cells": [
  {
   "cell_type": "code",
   "execution_count": 3,
   "metadata": {},
   "outputs": [
    {
     "name": "stdout",
     "output_type": "stream",
     "text": [
      "Output: \n",
      "Twinkle, twinkle, little stars, \n",
      "\tHow I Wonder what you are! \n",
      "\t\tUp above the  world so high, \n",
      "\t\tLike a diamond in the sky. \n",
      "Twinkle, twinkle, little star, \n",
      "\tHow I wonder what you are!\n"
     ]
    }
   ],
   "source": [
    "#1:Write a Python program to print the following string in a specific format.\n",
    "\n",
    "print(\"Output: \")\n",
    "print(\"Twinkle, twinkle, little stars, \\n\\tHow I Wonder what you are! \\n\\t\\tUp above the  world so high, \\n\\t\\tLike a diamond in the sky. \\nTwinkle, twinkle, little star, \\n\\tHow I wonder what you are!\")"
   ]
  },
  {
   "cell_type": "code",
   "execution_count": 4,
   "metadata": {},
   "outputs": [
    {
     "name": "stdout",
     "output_type": "stream",
     "text": [
      "Python Version: \n",
      "3.7.3 (default, Apr 24 2019, 15:29:51) [MSC v.1915 64 bit (AMD64)]\n"
     ]
    }
   ],
   "source": [
    "#2:Write a Python program to get the version you are using.\n",
    "\n",
    "import sys\n",
    "print(\"Python Version: \")\n",
    "print(sys.version)\n"
   ]
  },
  {
   "cell_type": "code",
   "execution_count": 5,
   "metadata": {},
   "outputs": [
    {
     "name": "stdout",
     "output_type": "stream",
     "text": [
      "Python Version: \n",
      "3.7.3 (default, Apr 24 2019, 15:29:51) [MSC v.1915 64 bit (AMD64)]\n"
     ]
    }
   ],
   "source": [
    "#2:Write a Python program to get the version you are using.\n",
    "\n",
    "print(\"Python Version: \")\n",
    "print(sys.version)\n"
   ]
  },
  {
   "cell_type": "code",
   "execution_count": 7,
   "metadata": {},
   "outputs": [
    {
     "name": "stdout",
     "output_type": "stream",
     "text": [
      "Current Date& Time: \n",
      "19-11-02 17:54:09\n"
     ]
    }
   ],
   "source": [
    "#3:Write a Python programto display the current date & time.\n",
    "\n",
    "import datetime\n",
    "now = datetime.datetime.now()\n",
    "print(\"Current Date& Time: \")\n",
    "print(now.strftime(\"%y-%m-%d %H:%M:%S\"))"
   ]
  },
  {
   "cell_type": "code",
   "execution_count": 8,
   "metadata": {},
   "outputs": [
    {
     "name": "stdout",
     "output_type": "stream",
     "text": [
      "Current Date& Time: \n",
      "19-11-02 17:54:27\n"
     ]
    }
   ],
   "source": [
    "#3:Write a Python programto display the current date & time.\n",
    "\n",
    "now = datetime.datetime.now()\n",
    "print(\"Current Date& Time: \")\n",
    "print(now.strftime(\"%y-%m-%d %H:%M:%S\"))"
   ]
  },
  {
   "cell_type": "code",
   "execution_count": 11,
   "metadata": {},
   "outputs": [
    {
     "name": "stdout",
     "output_type": "stream",
     "text": [
      "Radius of Circle: 2\n",
      "Area of Circle: \n",
      "12.566370614359172\n"
     ]
    }
   ],
   "source": [
    "#4:Write a Python program which accepts the radius of a circle from the user & compute the area.\n",
    "\n",
    "from math import pi\n",
    "r=int(input(\"Radius of Circle: \"))\n",
    "print(\"Area of Circle: \")\n",
    "print(str(pi * r**2))"
   ]
  },
  {
   "cell_type": "code",
   "execution_count": 13,
   "metadata": {},
   "outputs": [
    {
     "name": "stdout",
     "output_type": "stream",
     "text": [
      "Radius of Circle: 2\n",
      "Area of Circle: \n",
      "12.566370614359172\n"
     ]
    }
   ],
   "source": [
    "#4:Write a Python program which accepts the radius of a circle from the user & compute the area.\n",
    "\n",
    "r=int(input(\"Radius of Circle: \"))\n",
    "print(\"Area of Circle: \")\n",
    "print(str(pi * r**2))"
   ]
  },
  {
   "cell_type": "code",
   "execution_count": 12,
   "metadata": {},
   "outputs": [
    {
     "name": "stdout",
     "output_type": "stream",
     "text": [
      "Enter your first name: Marie\n",
      "Enter your last name: Curie\n",
      "Curie Marie\n"
     ]
    }
   ],
   "source": [
    "#5:Write a Python program which accepts the user's first & last name and print them in reverse order with a space between them.\n",
    "\n",
    "name_1=input(\"Enter your first name: \")\n",
    "name_2=input(\"Enter your last name: \")\n",
    "print(name_2 + \" \" + name_1)\n"
   ]
  },
  {
   "cell_type": "code",
   "execution_count": 14,
   "metadata": {},
   "outputs": [
    {
     "name": "stdout",
     "output_type": "stream",
     "text": [
      "Enter a number: 6\n",
      "Enter a number: 8\n",
      "14\n"
     ]
    }
   ],
   "source": [
    "#6:Write a Python program which takes two inputs from user and print them addition.\n",
    "\n",
    "Num_1=int(input(\"Enter a number: \"))\n",
    "Num_2=int(input(\"Enter a number: \"))\n",
    "Result=Num_1+Num_2\n",
    "print(Result)"
   ]
  },
  {
   "cell_type": "code",
   "execution_count": null,
   "metadata": {},
   "outputs": [],
   "source": []
  }
 ],
 "metadata": {
  "kernelspec": {
   "display_name": "Python 3",
   "language": "python",
   "name": "python3"
  },
  "language_info": {
   "codemirror_mode": {
    "name": "ipython",
    "version": 3
   },
   "file_extension": ".py",
   "mimetype": "text/x-python",
   "name": "python",
   "nbconvert_exporter": "python",
   "pygments_lexer": "ipython3",
   "version": "3.7.3"
  }
 },
 "nbformat": 4,
 "nbformat_minor": 2
}
